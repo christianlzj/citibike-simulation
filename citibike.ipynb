{
 "cells": [
  {
   "cell_type": "markdown",
   "metadata": {},
   "source": [
    "**Set simulation parameters**"
   ]
  },
  {
   "cell_type": "code",
   "execution_count": 127,
   "metadata": {},
   "outputs": [],
   "source": [
    "# See README for more information on simulation parameters\n",
    "\n",
    "# Maximum simulation time, in minutes\n",
    "MAXTIME = 24 * 60\n",
    "\n",
    "# Rider info\n",
    "NUM_RIDERS = 3500\n",
    "\n",
    "# Stochastic process parameters\n",
    "LAMBDA = 2.38\n",
    "MU = 2.78\n",
    "SIGMA = 0.619\n",
    "\n",
    "# Station info\n",
    "STATION_CAPACITY = 10\n",
    "IDEALIZED = False\n",
    "\n",
    "# Data paths\n",
    "start_station_path = 'data/start_station_probs.csv'\n",
    "trips_path = 'data/trip_stats.csv'\n",
    "\n",
    "# Verbosity\n",
    "VERBOSE = False"
   ]
  },
  {
   "cell_type": "markdown",
   "metadata": {},
   "source": [
    "**Helper data structures and functions**"
   ]
  },
  {
   "cell_type": "code",
   "execution_count": 128,
   "metadata": {},
   "outputs": [],
   "source": [
    "from dataclasses import dataclass, field\n",
    "from typing import Callable\n",
    "\n",
    "# Get and set simulation time\n",
    "def static_vars(**kwargs):\n",
    "    def decorate(func):\n",
    "        for k in kwargs:\n",
    "            setattr(func, k, kwargs[k])\n",
    "        return func\n",
    "    return decorate\n",
    "\n",
    "@static_vars(t=0)\n",
    "def time():\n",
    "    return time.t\n",
    "\n",
    "def set_time(t_new=0):\n",
    "    time.t = t_new\n",
    "    return time()\n",
    "\n",
    "# Store events\n",
    "@dataclass(order=True)\n",
    "class Event:\n",
    "    t: float\n",
    "    f: Callable = field(compare=False)\n",
    "    i: int = field(compare=False)\n",
    "\n",
    "class FutureEventList:\n",
    "    def __init__(self):\n",
    "        self.events = []\n",
    "\n",
    "    def __iter__(self):\n",
    "        return self\n",
    "\n",
    "    def __next__(self) -> Event:\n",
    "        from heapq import heappop\n",
    "        if self.events:\n",
    "            return heappop(self.events)\n",
    "        raise StopIteration\n",
    "\n",
    "# Schedule events\n",
    "def schedule(e: Event, fev: FutureEventList):\n",
    "    from heapq import heappush\n",
    "    heappush(fev.events, e)"
   ]
  },
  {
   "cell_type": "markdown",
   "metadata": {},
   "source": [
    "**Read data from data files**"
   ]
  },
  {
   "cell_type": "code",
   "execution_count": 129,
   "metadata": {},
   "outputs": [],
   "source": [
    "import pandas as pd\n",
    "\n",
    "# Station probabilities\n",
    "all_stations = []\n",
    "start_probs = {}\n",
    "dest_probs = {}\n",
    "if start_station_path:\n",
    "    start_probs_data = pd.read_csv(start_station_path, header=0, names=['station_name', 'prob'])\n",
    "    stations = start_probs_data['station_name'].to_list()\n",
    "    probs = start_probs_data['prob'].to_list()\n",
    "    \n",
    "    for i, station in enumerate(stations):\n",
    "        start_probs[station] = probs[i]\n",
    "\n",
    "else:\n",
    "    start_probs = {'A': 0.45, 'B': 0.20, 'C': 0.35}\n",
    "\n",
    "if trips_path:\n",
    "    trip_probs_data = pd.read_csv(trips_path, usecols=['start', 'end', 'count'])\n",
    "    starts = trip_probs_data['start'].to_list()\n",
    "    ends = trip_probs_data['end'].to_list()\n",
    "    counts = trip_probs_data['count'].to_list()\n",
    "\n",
    "    all_stations += starts\n",
    "    all_stations += ends\n",
    "    all_stations = set(all_stations)\n",
    "\n",
    "    for i, start in enumerate(starts):\n",
    "        end = ends[i]\n",
    "        count = counts[i]\n",
    "        if start in dest_probs.keys():\n",
    "            dest_probs[start][end] = count\n",
    "        else:\n",
    "            dest_probs[start] = {end: count}\n",
    "\n",
    "else:\n",
    "    dest_probs = {'A': {'A': 0, 'B': 0, 'C': 1}, 'B': {'A': 1, 'B': 0, 'C': 0}, 'C': {'A': 0, 'B': 1, 'C': 0}}\n",
    "    all_stations = ['A', 'B', 'C']\n",
    "    all_stations = set(all_stations)"
   ]
  },
  {
   "cell_type": "markdown",
   "metadata": {},
   "source": [
    "**Generate simulation inputs**"
   ]
  },
  {
   "cell_type": "code",
   "execution_count": 130,
   "metadata": {},
   "outputs": [],
   "source": [
    "import random\n",
    "import numpy as np\n",
    "\n",
    "# Rider info\n",
    "interarrival_times = np.random.exponential(1/LAMBDA, NUM_RIDERS)\n",
    "arrival_times = np.cumsum(interarrival_times)\n",
    "trip_durations = np.random.lognormal(MU, SIGMA, NUM_RIDERS)\n",
    "\n",
    "# Generate starting and destination stations based on station probabilities\n",
    "start_stations = random.choices(list(start_probs.keys()), weights=list(start_probs.values()), k=NUM_RIDERS)\n",
    "dest_stations = [\n",
    "    random.choices(list(dest_probs[start].keys()), weights=list(dest_probs[start].values()))[0]\n",
    "    for start in start_stations\n",
    "]"
   ]
  },
  {
   "cell_type": "markdown",
   "metadata": {},
   "source": [
    "**Define and initialize the state of the simulation**"
   ]
  },
  {
   "cell_type": "code",
   "execution_count": 131,
   "metadata": {},
   "outputs": [],
   "source": [
    "# Initialize state\n",
    "def init_state():\n",
    "    state = {\n",
    "        \"num_bikes\": {station: STATION_CAPACITY for station in all_stations},\n",
    "        \"checkout_times\": np.zeros(NUM_RIDERS) - 1,\n",
    "        \"return_times\": np.zeros(NUM_RIDERS) - 1,\n",
    "        \"checkout_q\": {},\n",
    "        \"return_q\": {}\n",
    "    }\n",
    "    return state"
   ]
  },
  {
   "cell_type": "markdown",
   "metadata": {},
   "source": [
    "**Define event functions**"
   ]
  },
  {
   "cell_type": "code",
   "execution_count": 132,
   "metadata": {},
   "outputs": [],
   "source": [
    "def checkout_bike(state, rider_i, fev, verbose):\n",
    "    station = start_stations[rider_i]\n",
    "\n",
    "    # If bikes available, the rider takes a bike from the station\n",
    "    # Schedule a return event at the destination station after a certain time\n",
    "    if state[\"num_bikes\"][station] > 0:\n",
    "        state[\"num_bikes\"][station] -= 1\n",
    "        state[\"checkout_times\"][rider_i] = time()\n",
    "        travel_time = trip_durations[rider_i]\n",
    "        schedule(Event(time() + travel_time, return_bike, rider_i), fev)\n",
    "\n",
    "        if verbose:\n",
    "            print(f\"[t={time()}] Rider {rider_i} checks out bike at Station {station}\")\n",
    "            print(f\"[t={time()}] Station {station} has {state[\"num_bikes\"][station]} bikes\\n\")\n",
    "    \n",
    "    # If no bikes available, the rider joins the queue to wait for a bike\n",
    "    else:\n",
    "        if station in state[\"checkout_q\"].keys():\n",
    "            state[\"checkout_q\"][station].append(rider_i)\n",
    "        else:\n",
    "            state[\"checkout_q\"][station] = [rider_i]\n",
    "        \n",
    "        if verbose:\n",
    "            print(f\"[t={time()}] Rider {rider_i} joins checkout queue at Station {station}\")\n",
    "            print(f\"[t={time()}] Station {station} checkout queue: {state[\"checkout_q\"][station]}\\n\")\n",
    "    \n",
    "    # If there are riders waiting to return, schedule a return event for now\n",
    "    if station in state[\"return_q\"].keys() and len(state[\"return_q\"][station]) > 0:\n",
    "        returner_i = state[\"return_q\"][station].pop(0)\n",
    "        schedule(Event(time(), return_bike, returner_i), fev)\n",
    "\n",
    "def return_bike(state, returner_i, fev, verbose):\n",
    "    station = dest_stations[returner_i]\n",
    "\n",
    "    # If space available, return the bike and exit the system\n",
    "    # If simulation is idealized, space is always available\n",
    "    if IDEALIZED or state[\"num_bikes\"][station] < STATION_CAPACITY:\n",
    "        state[\"num_bikes\"][station] += 1\n",
    "        state[\"return_times\"][returner_i] = time()\n",
    "\n",
    "        if verbose:\n",
    "            print(f\"[t={time()}] Rider {returner_i} returns bike at Station {station}\")\n",
    "            print(f\"[t={time()}] Station {station} has {state[\"num_bikes\"][station]} bikes\\n\")\n",
    "    \n",
    "    # If station is full, join the queue to wait to return the bike\n",
    "    else:\n",
    "        if station in state[\"return_q\"].keys():\n",
    "            state[\"return_q\"][station].append(returner_i)\n",
    "        else:\n",
    "            state[\"return_q\"][station] = [returner_i]\n",
    "        \n",
    "        if verbose:\n",
    "            print(f\"[t={time()}] Rider {returner_i} joins return queue at Station {station}\")\n",
    "            print(f\"[t={time()}] Station {station} return queue: {state[\"return_q\"][station]}\\n\")\n",
    "    \n",
    "    # If there are riders waiting to checkout, schedule a checkout event for now\n",
    "    if station in state[\"checkout_q\"].keys() and len(state[\"checkout_q\"][station]) > 0:\n",
    "        rider_i = state[\"checkout_q\"][station].pop(0)\n",
    "        schedule(Event(time(), checkout_bike, rider_i), fev)"
   ]
  },
  {
   "cell_type": "markdown",
   "metadata": {},
   "source": [
    "**Simulate**"
   ]
  },
  {
   "cell_type": "code",
   "execution_count": 133,
   "metadata": {},
   "outputs": [],
   "source": [
    "def simulate(verbose):\n",
    "    state = init_state()\n",
    "    event_list = FutureEventList()\n",
    "    for i in range(NUM_RIDERS):\n",
    "        time = arrival_times[i]\n",
    "        schedule(Event(time, checkout_bike, i), event_list)\n",
    "\n",
    "    for e in event_list:\n",
    "        if set_time(e.t) > MAXTIME:\n",
    "            if not IDEALIZED:\n",
    "                break\n",
    "        e.f(state, e.i, event_list, verbose)\n",
    "\n",
    "    return state[\"checkout_times\"], state[\"return_times\"]"
   ]
  },
  {
   "cell_type": "code",
   "execution_count": 134,
   "metadata": {},
   "outputs": [],
   "source": [
    "checkout_times, return_times = simulate(verbose=VERBOSE)"
   ]
  },
  {
   "cell_type": "markdown",
   "metadata": {},
   "source": [
    "**Calculate simulation statistics**"
   ]
  },
  {
   "cell_type": "code",
   "execution_count": 135,
   "metadata": {},
   "outputs": [
    {
     "name": "stdout",
     "output_type": "stream",
     "text": [
      "Successful Rental Rate: 0.9562857142857143\n",
      "Successful Return Rate: 0.8848571428571429\n",
      "Average Wait Time: 7.910665383372745 minutes\n"
     ]
    }
   ],
   "source": [
    "successful_rentals = np.full_like(checkout_times, True, dtype=bool)\n",
    "successful_returns = np.full_like(return_times, True, dtype=bool)\n",
    "\n",
    "for i in range(NUM_RIDERS):\n",
    "    if checkout_times[i] < 0:\n",
    "        successful_rentals[i] = False\n",
    "    if return_times[i] < 0:\n",
    "        successful_returns[i] = False\n",
    "\n",
    "successful_rental_rate = np.count_nonzero(successful_rentals == True) / NUM_RIDERS\n",
    "successful_return_rate = np.count_nonzero(successful_returns == True) / NUM_RIDERS\n",
    "wait_times = checkout_times[successful_rentals] - arrival_times[successful_rentals]\n",
    "average_wait_time = np.mean(wait_times)\n",
    "\n",
    "print(f\"Successful Rental Rate: {successful_rental_rate}\\nSuccessful Return Rate: {successful_return_rate}\\nAverage Wait Time: {average_wait_time} minutes\")"
   ]
  }
 ],
 "metadata": {
  "kernelspec": {
   "display_name": "Python 3",
   "language": "python",
   "name": "python3"
  },
  "language_info": {
   "codemirror_mode": {
    "name": "ipython",
    "version": 3
   },
   "file_extension": ".py",
   "mimetype": "text/x-python",
   "name": "python",
   "nbconvert_exporter": "python",
   "pygments_lexer": "ipython3",
   "version": "3.12.1"
  }
 },
 "nbformat": 4,
 "nbformat_minor": 2
}
